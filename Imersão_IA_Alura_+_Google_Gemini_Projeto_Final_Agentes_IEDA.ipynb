{
  "nbformat": 4,
  "nbformat_minor": 0,
  "metadata": {
    "colab": {
      "provenance": []
    },
    "kernelspec": {
      "name": "python3",
      "display_name": "Python 3"
    },
    "language_info": {
      "name": "python"
    }
  },
  "cells": [
    {
      "cell_type": "code",
      "source": [
        "%pip -q install google-genai"
      ],
      "metadata": {
        "id": "UCCbECexLk_h"
      },
      "execution_count": 1,
      "outputs": []
    },
    {
      "cell_type": "code",
      "source": [
        "# Configura a API Key do Google Gemini\n",
        "\n",
        "import os\n",
        "from google.colab import userdata\n",
        "\n",
        "os.environ[\"GOOGLE_API_KEY\"] = userdata.get('GOOGLE_API_KEY')"
      ],
      "metadata": {
        "id": "NfCqHo1tLk8P"
      },
      "execution_count": 2,
      "outputs": []
    },
    {
      "cell_type": "code",
      "source": [
        "# Configura o cliente da SDK do Gemini\n",
        "\n",
        "from google import genai\n",
        "\n",
        "client = genai.Client()\n",
        "\n",
        "MODEL_ID = \"gemini-2.0-flash\""
      ],
      "metadata": {
        "id": "bV4w0H5TLk5g"
      },
      "execution_count": 3,
      "outputs": []
    },
    {
      "cell_type": "code",
      "source": [
        "# Instalar Framework ADK de agentes do Google ################################################\n",
        "!pip install -q google-adk"
      ],
      "metadata": {
        "id": "hvZ3UnPI4jhJ",
        "colab": {
          "base_uri": "https://localhost:8080/"
        },
        "outputId": "ab287c63-c1e7-4073-c377-b8f509821f15"
      },
      "execution_count": 6,
      "outputs": [
        {
          "output_type": "stream",
          "name": "stdout",
          "text": [
            "\u001b[?25l   \u001b[90m━━━━━━━━━━━━━━━━━━━━━━━━━━━━━━━━━━━━━━━━\u001b[0m \u001b[32m0.0/1.2 MB\u001b[0m \u001b[31m?\u001b[0m eta \u001b[36m-:--:--\u001b[0m\r\u001b[2K   \u001b[91m━━━━━━━━━━━━━━\u001b[0m\u001b[91m╸\u001b[0m\u001b[90m━━━━━━━━━━━━━━━━━━━━━━━━━\u001b[0m \u001b[32m0.4/1.2 MB\u001b[0m \u001b[31m13.1 MB/s\u001b[0m eta \u001b[36m0:00:01\u001b[0m\r\u001b[2K   \u001b[91m━━━━━━━━━━━━━━━━━━━━━━━━━━━━━━━━━━━━━━━\u001b[0m\u001b[91m╸\u001b[0m \u001b[32m1.2/1.2 MB\u001b[0m \u001b[31m21.7 MB/s\u001b[0m eta \u001b[36m0:00:01\u001b[0m\r\u001b[2K   \u001b[90m━━━━━━━━━━━━━━━━━━━━━━━━━━━━━━━━━━━━━━━━\u001b[0m \u001b[32m1.2/1.2 MB\u001b[0m \u001b[31m16.5 MB/s\u001b[0m eta \u001b[36m0:00:00\u001b[0m\n",
            "\u001b[?25h\u001b[?25l   \u001b[90m━━━━━━━━━━━━━━━━━━━━━━━━━━━━━━━━━━━━━━━━\u001b[0m \u001b[32m0.0/232.1 kB\u001b[0m \u001b[31m?\u001b[0m eta \u001b[36m-:--:--\u001b[0m\r\u001b[2K   \u001b[90m━━━━━━━━━━━━━━━━━━━━━━━━━━━━━━━━━━━━━━━━\u001b[0m \u001b[32m232.1/232.1 kB\u001b[0m \u001b[31m16.0 MB/s\u001b[0m eta \u001b[36m0:00:00\u001b[0m\n",
            "\u001b[2K   \u001b[90m━━━━━━━━━━━━━━━━━━━━━━━━━━━━━━━━━━━━━━━━\u001b[0m \u001b[32m95.2/95.2 kB\u001b[0m \u001b[31m7.5 MB/s\u001b[0m eta \u001b[36m0:00:00\u001b[0m\n",
            "\u001b[2K   \u001b[90m━━━━━━━━━━━━━━━━━━━━━━━━━━━━━━━━━━━━━━━━\u001b[0m \u001b[32m217.1/217.1 kB\u001b[0m \u001b[31m17.1 MB/s\u001b[0m eta \u001b[36m0:00:00\u001b[0m\n",
            "\u001b[2K   \u001b[90m━━━━━━━━━━━━━━━━━━━━━━━━━━━━━━━━━━━━━━━━\u001b[0m \u001b[32m334.1/334.1 kB\u001b[0m \u001b[31m20.3 MB/s\u001b[0m eta \u001b[36m0:00:00\u001b[0m\n",
            "\u001b[2K   \u001b[90m━━━━━━━━━━━━━━━━━━━━━━━━━━━━━━━━━━━━━━━━\u001b[0m \u001b[32m125.1/125.1 kB\u001b[0m \u001b[31m9.5 MB/s\u001b[0m eta \u001b[36m0:00:00\u001b[0m\n",
            "\u001b[2K   \u001b[90m━━━━━━━━━━━━━━━━━━━━━━━━━━━━━━━━━━━━━━━━\u001b[0m \u001b[32m65.8/65.8 kB\u001b[0m \u001b[31m4.5 MB/s\u001b[0m eta \u001b[36m0:00:00\u001b[0m\n",
            "\u001b[2K   \u001b[90m━━━━━━━━━━━━━━━━━━━━━━━━━━━━━━━━━━━━━━━━\u001b[0m \u001b[32m119.0/119.0 kB\u001b[0m \u001b[31m7.3 MB/s\u001b[0m eta \u001b[36m0:00:00\u001b[0m\n",
            "\u001b[2K   \u001b[90m━━━━━━━━━━━━━━━━━━━━━━━━━━━━━━━━━━━━━━━━\u001b[0m \u001b[32m194.9/194.9 kB\u001b[0m \u001b[31m13.9 MB/s\u001b[0m eta \u001b[36m0:00:00\u001b[0m\n",
            "\u001b[2K   \u001b[90m━━━━━━━━━━━━━━━━━━━━━━━━━━━━━━━━━━━━━━━━\u001b[0m \u001b[32m62.5/62.5 kB\u001b[0m \u001b[31m4.2 MB/s\u001b[0m eta \u001b[36m0:00:00\u001b[0m\n",
            "\u001b[2K   \u001b[90m━━━━━━━━━━━━━━━━━━━━━━━━━━━━━━━━━━━━━━━━\u001b[0m \u001b[32m103.3/103.3 kB\u001b[0m \u001b[31m6.7 MB/s\u001b[0m eta \u001b[36m0:00:00\u001b[0m\n",
            "\u001b[2K   \u001b[90m━━━━━━━━━━━━━━━━━━━━━━━━━━━━━━━━━━━━━━━━\u001b[0m \u001b[32m44.4/44.4 kB\u001b[0m \u001b[31m3.0 MB/s\u001b[0m eta \u001b[36m0:00:00\u001b[0m\n",
            "\u001b[2K   \u001b[90m━━━━━━━━━━━━━━━━━━━━━━━━━━━━━━━━━━━━━━━━\u001b[0m \u001b[32m72.0/72.0 kB\u001b[0m \u001b[31m5.1 MB/s\u001b[0m eta \u001b[36m0:00:00\u001b[0m\n",
            "\u001b[?25h"
          ]
        }
      ]
    },
    {
      "cell_type": "code",
      "source": [],
      "metadata": {
        "id": "yZtLIhOF922v"
      },
      "execution_count": null,
      "outputs": []
    },
    {
      "cell_type": "code",
      "execution_count": 34,
      "metadata": {
        "id": "aePV2bdfDeoW"
      },
      "outputs": [],
      "source": [
        "from google.adk.agents import Agent\n",
        "from google.adk.runners import Runner\n",
        "from google.adk.sessions import InMemorySessionService\n",
        "from google.adk.tools import google_search\n",
        "from google.genai import types  # Para criar conteúdos (Content e Part)\n",
        "from datetime import date\n",
        "from datetime import datetime  # Importa a classe 'datetime' do módulo 'datetime' para registrar a data e hora.\n",
        "import random  # Importa o módulo 'random' para gerar números aleatórios e fazer escolhas aleatórias.\n",
        "import time    # Importa o módulo 'time' para controlar o tempo, como pausas.\n",
        "import textwrap # Para formatar melhor a saída de texto\n",
        "from IPython.display import display, HTML, Markdown # Para exibir texto formatado no Colab\n",
        "import requests # Para fazer requisições HTTP\n",
        "import warnings\n",
        "\n",
        "warnings.filterwarnings(\"ignore\")"
      ]
    },
    {
      "cell_type": "code",
      "source": [
        "# Função auxiliar que envia uma mensagem para um agente via Runner e retorna a resposta final\n",
        "def call_agent(agent: Agent, message_text: str) -> str:\n",
        "    # Cria um serviço de sessão em memória\n",
        "    session_service = InMemorySessionService()\n",
        "    # Cria uma nova sessão (você pode personalizar os IDs conforme necessário)\n",
        "    session = session_service.create_session(app_name=agent.name, user_id=\"user1\", session_id=\"session1\")\n",
        "    # Cria um Runner para o agente\n",
        "    runner = Runner(agent=agent, app_name=agent.name, session_service=session_service)\n",
        "    # Cria o conteúdo da mensagem de entrada\n",
        "    content = types.Content(role=\"user\", parts=[types.Part(text=message_text)])\n",
        "\n",
        "    final_response = \"\"\n",
        "    # Itera assincronamente pelos eventos retornados durante a execução do agente\n",
        "    for event in runner.run(user_id=\"user1\", session_id=\"session1\", new_message=content):\n",
        "        if event.is_final_response():\n",
        "          for part in event.content.parts:\n",
        "            if part.text is not None:\n",
        "              final_response += part.text\n",
        "              final_response += \"\\n\"\n",
        "    return final_response"
      ],
      "metadata": {
        "id": "_xP4lWhsS5ko"
      },
      "execution_count": 8,
      "outputs": []
    },
    {
      "cell_type": "code",
      "source": [
        "# Função auxiliar para exibir texto formatado em Markdown no Colab\n",
        "def to_markdown(text):\n",
        "  text = text.replace('•', '  *')\n",
        "  return Markdown(textwrap.indent(text, '> ', predicate=lambda _: True))"
      ],
      "metadata": {
        "id": "8dosiodaxfFR"
      },
      "execution_count": 9,
      "outputs": []
    },
    {
      "cell_type": "markdown",
      "source": [
        "# **INICIO DO MEU AGENTE**"
      ],
      "metadata": {
        "id": "naQPZbg5BCXA"
      }
    },
    {
      "cell_type": "code",
      "source": [
        "###############################################\n",
        "# --- ARMAZENA DADOS DO USUÁRIO NA SESSÃO --- #\n",
        "###############################################\n",
        "historico_desempenho = {}  # Cria um dicionário vazio chamado 'historico_desempenho' para armazenar o desempenho dos usuários. As chaves serão os IDs dos usuários e os valores serão listas de seus resultados.\n",
        "usuario_atual = \"usuario_teste\"  # Define uma variável 'usuario_atual' com um ID de usuário para simular um usuário único por enquanto."
      ],
      "metadata": {
        "id": "w0X_hfUyBK9S"
      },
      "execution_count": 10,
      "outputs": []
    },
    {
      "cell_type": "code",
      "source": [
        "################################################################\n",
        "# Função de Exercício de Memória de Palavras (Tempo Aumentado)\n",
        "################################################################\n",
        "def exercicio_memoria_palavras(num_palavras=5, duracao_apresentacao=5): # Aumentado para 5 segundos\n",
        "    palavras = [\"casa\", \"árvore\", \"livro\", \"sol\", \"lua\", \"carro\", \"flor\", \"rio\", \"pássaro\", \"mesa\", \"janela\", \"porta\", \"cadeira\", \"papel\", \"caneta\"]\n",
        "    palavras_sorteadas = random.sample(palavras, num_palavras)\n",
        "    print(f\"\\nMemorize as seguintes {num_palavras} palavras em {duracao_apresentacao} segundos:\")\n",
        "    print(palavras_sorteadas)\n",
        "    time.sleep(duracao_apresentacao)\n",
        "    print(\"\\nTempo esgotado!\")\n",
        "    resposta_usuario = input(\"Digite as palavras que você lembra, separadas por espaço: \").split()\n",
        "    acertos = 0\n",
        "    palavras_corretas = []\n",
        "    palavras_faltantes = []\n",
        "    for palavra in resposta_usuario:\n",
        "        if palavra in palavras_sorteadas and palavra not in palavras_corretas:\n",
        "            acertos += 1\n",
        "            palavras_corretas.append(palavra)\n",
        "    for palavra in palavras_sorteadas:\n",
        "        if palavra not in palavras_corretas:\n",
        "            palavras_faltantes.append(palavra)\n",
        "    print(f\"\\nVocê lembrou de {acertos} de {num_palavras} palavras.\")\n",
        "    print(\"Palavras lembradas:\", palavras_corretas)\n",
        "    print(\"Palavras que faltaram:\", palavras_faltantes)\n",
        "    return {\"palavras_apresentadas\": palavras_sorteadas,\n",
        "            \"resposta_usuario\": resposta_usuario,\n",
        "            \"acertos\": acertos,\n",
        "            \"total_palavras\": num_palavras,\n",
        "            \"acertou\": (acertos == num_palavras)}"
      ],
      "metadata": {
        "id": "eFw7EawvB6pJ"
      },
      "execution_count": 11,
      "outputs": []
    },
    {
      "cell_type": "code",
      "source": [
        "#################################################################\n",
        "# Função de Exercício de Atenção Ímpar (Sem Alteração de Tempo) #\n",
        "#################################################################\n",
        "def exercicio_atencao_impar(tamanho_sequencia=7):\n",
        "    sequencia = []\n",
        "    posicao_impar = random.randint(0, tamanho_sequencia - 1)\n",
        "    numero_impar = random.choice([1, 3, 5, 7, 9])\n",
        "    for i in range(tamanho_sequencia):\n",
        "        if i == posicao_impar:\n",
        "            sequencia.append(numero_impar)\n",
        "        else:\n",
        "            sequencia.append(random.choice([2, 4, 6, 8]))\n",
        "    print(\"\\nEncontre o número ímpar na seguinte sequência:\")\n",
        "    print(sequencia)\n",
        "    resposta_usuario_str = input(\"Digite o número ímpar encontrado: \")\n",
        "    try:\n",
        "        resposta_usuario = int(resposta_usuario_str)\n",
        "        acertou = (resposta_usuario == numero_impar)\n",
        "    except ValueError:\n",
        "        acertou = False\n",
        "    if acertou:\n",
        "        print(\"Parabéns! Você acertou.\")\n",
        "    else:\n",
        "        print(f\"Resposta incorreta. O número ímpar era {numero_impar}.\")\n",
        "    return {\"sequencia_apresentada\": sequencia,\n",
        "            \"resposta_usuario\": resposta_usuario_str,\n",
        "            \"numero_impar_correto\": numero_impar,\n",
        "            \"acertou\": acertou}"
      ],
      "metadata": {
        "id": "jP2oNiz6D2st"
      },
      "execution_count": 14,
      "outputs": []
    },
    {
      "cell_type": "code",
      "source": [
        "#############################################################################\n",
        "# Função de Exercício de Linguagem Completar Frase (Sem Alteração de Tempo) #\n",
        "#############################################################################\n",
        "def exercicio_linguagem_completar_frase():\n",
        "    frases = [\n",
        "        {\"frase\": \"O gato subiu na ___.\", \"resposta\": \"mesa\"},\n",
        "        {\"frase\": \"Eu gosto de comer ___ no café da manhã.\", \"resposta\": \"pão\"},\n",
        "        {\"frase\": \"O céu está muito ___ hoje.\", \"resposta\": \"azul\"},\n",
        "        {\"frase\": \"Preciso comprar um novo ___ para escrever.\", \"resposta\": \"livro\"},\n",
        "        {\"frase\": \"A flor mais bonita do jardim é a ___.\", \"resposta\": \"rosa\"}\n",
        "    ]\n",
        "    frase_escolhida = random.choice(frases)\n",
        "    frase_com_vazio = frase_escolhida[\"frase\"].replace(\"___\", \"_____\")\n",
        "    print(f\"\\nComplete a seguinte frase:\")\n",
        "    print(frase_com_vazio)\n",
        "    resposta_usuario = input(\"Digite a palavra que falta: \").strip().lower()\n",
        "    acertou = (resposta_usuario == frase_escolhida[\"resposta\"])\n",
        "    if acertou:\n",
        "        print(\"Parabéns! Você completou a frase corretamente.\")\n",
        "    else:\n",
        "        print(f\"Resposta incorreta. A palavra correta era: {frase_escolhida['resposta']}.\")\n",
        "    return {\"frase_apresentada\": frase_com_vazio,\n",
        "            \"palavra_correta\": frase_escolhida[\"resposta\"],\n",
        "            \"resposta_usuario\": resposta_usuario,\n",
        "            \"acertou\": acertou}"
      ],
      "metadata": {
        "id": "7Ked5G7ND_n3"
      },
      "execution_count": 15,
      "outputs": []
    },
    {
      "cell_type": "code",
      "source": [
        "################################################################\n",
        "# Função de Exercício de Memória de Números (Tempo Aumentado). #\n",
        "################################################################\n",
        "def exercicio_memoria_numeros(tamanho_sequencia=6, duracao_apresentacao=5): # Aumentado para 5 segundos\n",
        "    sequencia = [random.randint(0, 9) for _ in range(tamanho_sequencia)]\n",
        "    print(f\"\\nMemorize a seguinte sequência de {tamanho_sequencia} números em {duracao_apresentacao} segundos:\")\n",
        "    print(sequencia)\n",
        "    time.sleep(duracao_apresentacao)\n",
        "    print(\"\\nTempo esgotado!\")\n",
        "    resposta_usuario_str = input(\"Digite a sequência de números que você lembra, separada por espaço: \")\n",
        "    try:\n",
        "        resposta_usuario = [int(x) for x in resposta_usuario_str.split()]\n",
        "        acertou = (resposta_usuario == sequencia)\n",
        "    except ValueError:\n",
        "        acertou = False\n",
        "    if acertou:\n",
        "        print(\"Parabéns! Você acertou a sequência.\")\n",
        "    else:\n",
        "        print(f\"Resposta incorreta. A sequência correta era: {sequencia}.\")\n",
        "    return {\"sequencia_apresentada\": sequencia,\n",
        "            \"resposta_usuario\": resposta_usuario_str, # Mantido como string no retorno para registro\n",
        "            \"acertou\": acertou}"
      ],
      "metadata": {
        "id": "TRzq-wuAEMnE"
      },
      "execution_count": 16,
      "outputs": []
    },
    {
      "cell_type": "code",
      "source": [
        "################################################################################\n",
        "# Função de Exercício de Atenção Contagem de Letras (Sem Alteração de Tempo).  #\n",
        "################################################################################\n",
        "def exercicio_atencao_contagem_letras(tamanho_sequencia=15, letra_alvo='a'):\n",
        "    letras = [random.choice('abcdefg') for _ in range(tamanho_sequencia)]\n",
        "    # Calcula a contagem correta fora do bloco try\n",
        "    contagem_correta = letras.count(letra_alvo)\n",
        "\n",
        "    print(f\"\\nConte quantas vezes a letra '{letra_alvo}' aparece na seguinte sequência:\")\n",
        "    print(\" \".join(letras))\n",
        "    resposta_usuario_str = input(\"Digite o número de vezes que a letra aparece: \")\n",
        "\n",
        "    try:\n",
        "        resposta_usuario = int(resposta_usuario_str)\n",
        "        acertou = (resposta_usuario == contagem_correta)\n",
        "    except ValueError:\n",
        "        # Se a entrada não for um inteiro válido, está incorreta\n",
        "        acertou = False\n",
        "        # Você pode querer definir um valor padrão para resposta_usuario_str\n",
        "        # se quiser registrar a entrada inválida no histórico,\n",
        "        # mas ela já é capturada como resposta_usuario_str no retorno.\n",
        "\n",
        "    if acertou:\n",
        "        print(\"Parabéns! Você acertou.\")\n",
        "    else:\n",
        "        # contagem_correta agora tem garantia de ter um valor\n",
        "        print(f\"Resposta incorreta. A letra '{letra_alvo}' aparece {contagem_correta} vezes.\")\n",
        "\n",
        "    return {\"sequencia_apresentada\": letras,\n",
        "            \"letra_alvo\": letra_alvo,\n",
        "            \"resposta_usuario\": resposta_usuario_str, # Mantido como string para registro\n",
        "            \"contagem_correta\": contagem_correta,\n",
        "            \"acertou\": acertou}"
      ],
      "metadata": {
        "id": "eJapjKTqEaHB"
      },
      "execution_count": 41,
      "outputs": []
    },
    {
      "cell_type": "code",
      "source": [
        "#######################################################################\n",
        "# Função de Exercício de Linguagem Sinônimo (Sem Alteração de Tempo). #\n",
        "#######################################################################\n",
        "def exercicio_linguagem_sinonimo():\n",
        "    palavras_sinonimos = {\n",
        "        \"feliz\": [\"alegre\", \"contente\", \"risonho\"],\n",
        "        \"triste\": [\"melancólico\", \"abatido\", \"deprimido\"],\n",
        "        \"grande\": [\"enorme\", \"imenso\", \"gigantesco\"],\n",
        "        \"pequeno\": [\"minúsculo\", \"diminuto\", \"liliputiano\"],\n",
        "        \"rápido\": [\"veloz\", \"ligeiro\", \"ágil\"]\n",
        "    }\n",
        "    palavra_chave = random.choice(list(palavras_sinonimos.keys()))\n",
        "    sinonimo_correto = random.choice(palavras_sinonimos[palavra_chave])\n",
        "    opcoes = random.sample(palavras_sinonimos[palavra_chave] + random.sample(list(palavras_sinonimos.keys()), 2), 4)\n",
        "    if sinonimo_correto not in opcoes:\n",
        "        opcoes[random.randint(0, 3)] = sinonimo_correto\n",
        "    random.shuffle(opcoes)\n",
        "\n",
        "    print(f\"\\nQual o sinônimo da palavra '{palavra_chave}'?\")\n",
        "    for i, opcao in enumerate(opcoes):\n",
        "        print(f\"{i+1}. {opcao}\")\n",
        "\n",
        "    resposta_usuario_str = input(\"Digite o número da opção correta: \")\n",
        "    try:\n",
        "        resposta_usuario_index = int(resposta_usuario_str) - 1\n",
        "        if 0 <= resposta_usuario_index < 4:\n",
        "            resposta_usuario = opcoes[resposta_usuario_index]\n",
        "            acertou = (resposta_usuario == sinonimo_correto)\n",
        "        else:\n",
        "            acertou = False\n",
        "            resposta_usuario = \"Opção inválida\"\n",
        "    except ValueError:\n",
        "        acertou = False\n",
        "        resposta_usuario = \"Entrada inválida\"\n",
        "\n",
        "    if acertou:\n",
        "        print(\"Parabéns! Você acertou.\")\n",
        "    else:\n",
        "        print(f\"Resposta incorreta. O sinônimo correto era: {sinonimo_correto}.\")\n",
        "\n",
        "    return {\"palavra_chave\": palavra_chave,\n",
        "            \"sinonimo_correto\": sinonimo_correto,\n",
        "            \"opcoes\": opcoes,\n",
        "            \"resposta_usuario\": resposta_usuario,\n",
        "            \"acertou\": acertou}"
      ],
      "metadata": {
        "id": "ypTPE7I-EprR"
      },
      "execution_count": 43,
      "outputs": []
    },
    {
      "cell_type": "code",
      "source": [
        "##############################################################\n",
        "# Função de Exercício de Memória de Cores (Tempo Aumentado). #\n",
        "##############################################################\n",
        "def exercicio_memoria_cores(num_cores=4, duracao_apresentacao=5): # Aumentado para 5 segundos\n",
        "    cores = [\"vermelho\", \"azul\", \"verde\", \"amarelo\", \"laranja\", \"roxo\", \"branco\", \"preto\"]\n",
        "    cores_sorteadas = random.sample(cores, num_cores)\n",
        "    print(f\"\\nMemorize a seguinte sequência de {num_cores} cores em {duracao_apresentacao} segundos:\")\n",
        "    print(cores_sorteadas)\n",
        "    time.sleep(duracao_apresentacao)\n",
        "    print(\"\\nTempo esgotado!\")\n",
        "    resposta_usuario_str = input(\"Digite as cores que você lembra, separadas por espaço: \")\n",
        "    resposta_usuario = resposta_usuario_str.split() # Garante que resposta_usuario seja definida aqui\n",
        "    acertos = 0\n",
        "    cores_corretas = []\n",
        "    cores_faltantes = []\n",
        "    for cor in resposta_usuario:\n",
        "        if cor in cores_sorteadas and cor not in cores_corretas:\n",
        "            acertos += 1\n",
        "            cores_corretas.append(cor)\n",
        "    for cor in cores_sorteadas:\n",
        "        if cor not in cores_corretas:\n",
        "            cores_faltantes.append(cor)\n",
        "    print(f\"\\nVocê lembrou de {acertos} de {num_cores} cores.\")\n",
        "    print(\"Cores lembradas:\", cores_corretas)\n",
        "    print(\"Cores que faltaram:\", cores_faltantes)\n",
        "    return {\"cores_apresentadas\": cores_sorteadas,\n",
        "            \"resposta_usuario\": resposta_usuario_str, # Salva como string para registro\n",
        "            \"acertos\": acertos,\n",
        "            \"total_cores\": num_cores,\n",
        "            \"acertou\": (acertos == num_cores)}"
      ],
      "metadata": {
        "id": "tiDNA4VwE1Co"
      },
      "execution_count": 20,
      "outputs": []
    },
    {
      "cell_type": "code",
      "source": [
        "####################################################################\n",
        "# Função de Exercício de Atenção Símbolos (Sem Alteração de Tempo) #\n",
        "####################################################################\n",
        "def exercicio_atencao_simbolos(tamanho_sequencia=12, simbolo_alvo='*'):\n",
        "    simbolos = ['*', '#', '$', '%', '&', '@']\n",
        "    sequencia = [random.choice(simbolos) for _ in range(tamanho_sequencia)]\n",
        "    print(f\"\\nConte quantas vezes o símbolo '{simbolo_alvo}' aparece na seguinte sequência:\")\n",
        "    print(\" \".join(sequencia))\n",
        "    resposta_usuario_str = input(\"Digite o número de vezes que o símbolo aparece: \")\n",
        "    try:\n",
        "        resposta_usuario = int(resposta_usuario_str)\n",
        "        contagem_correta = sequencia.count(simbolo_alvo)\n",
        "        acertou = (resposta_usuario == contagem_correta)\n",
        "    except ValueError:\n",
        "        acertou = False\n",
        "    if acertou:\n",
        "        print(\"Parabéns! Você acertou.\")\n",
        "    else:\n",
        "        print(f\"Resposta incorreta. O símbolo '{simbolo_alvo}' aparece {contagem_correta} vezes.\")\n",
        "    return {\"sequencia_apresentada\": sequencia,\n",
        "            \"simbolo_alvo\": simbolo_alvo,\n",
        "            \"resposta_usuario\": resposta_usuario_str,\n",
        "            \"contagem_correta\": contagem_correta,\n",
        "            \"acertou\": acertou}"
      ],
      "metadata": {
        "id": "DVNsOgCbE-mm"
      },
      "execution_count": 21,
      "outputs": []
    },
    {
      "cell_type": "code",
      "source": [
        "#######################################################################\n",
        "# Função de Exercício de Linguagem Anagrama (Sem Alteração de Tempo). #\n",
        "#######################################################################\n",
        "def exercicio_linguagem_anagrama():\n",
        "    palavras = [\"tempo\", \"livro\", \"amigo\", \"terra\", \"chuva\", \"noite\"]\n",
        "    palavra_original = random.choice(palavras)\n",
        "    anagrama = \"\".join(random.sample(palavra_original, len(palavra_original)))\n",
        "    print(f\"\\nDecifre o seguinte anagrama: {anagrama}\")\n",
        "    resposta_usuario = input(\"Digite a palavra original: \").strip().lower()\n",
        "    acertou = (resposta_usuario == palavra_original)\n",
        "    if acertou:\n",
        "        print(\"Parabéns! Você decifrou o anagrama.\")\n",
        "    else:\n",
        "        print(f\"Resposta incorreta. A palavra original era: {palavra_original}.\")\n",
        "    return {\"anagrama\": anagrama,\n",
        "            \"palavra_original\": palavra_original,\n",
        "            \"resposta_usuario\": resposta_usuario,\n",
        "            \"acertou\": acertou}"
      ],
      "metadata": {
        "id": "D8Zg0e_AFI79"
      },
      "execution_count": 22,
      "outputs": []
    },
    {
      "cell_type": "code",
      "source": [
        "#############################################################\n",
        "# Função de Exercício de Memória Visual (Tempo Aumentado).  #\n",
        "#############################################################\n",
        "def exercicio_memoria_visual(num_elementos=5, duracao_apresentacao=5): # Aumentado para 5 segundos\n",
        "    elementos = [\"O quadrado vermelho\", \"O círculo azul\", \"O triângulo verde\", \"A estrela amarela\", \"O losango roxo\"]\n",
        "    elementos_sorteados = random.sample(elementos, num_elementos)\n",
        "    print(f\"\\nMemorize a seguinte sequência de {num_elementos} elementos visuais em {duracao_apresentacao} segundos:\")\n",
        "    for elemento in elementos_sorteados:\n",
        "        print(f\"- {elemento}\")\n",
        "        time.sleep(duracao_apresentacao / num_elementos)\n",
        "    print(\"\\nTempo esgotado!\")\n",
        "    # Chame split apenas uma vez aqui:\n",
        "    resposta_usuario_list = input(\"Digite os elementos que você lembra na ordem, separados por ponto e vírgula: \").split(\";\")\n",
        "    # Itere sobre a lista resultante:\n",
        "    resposta_usuario = [resp.strip().lower() for resp in resposta_usuario_list if resp.strip()] # Remove espaços extras, ignora entradas vazias e converte para minúsculas\n",
        "    #[resp.strip() for resp in resposta_usuario_list if resp.strip()] # Remove espaços extras e ignora entradas vazias\n",
        "\n",
        "    acertos = 0\n",
        "    for i in range(min(num_elementos, len(resposta_usuario))):\n",
        "        if resposta_usuario[i] == elementos_sorteados[i]:\n",
        "            acertos += 1\n",
        "    print(f\"\\nVocê lembrou de {acertos} de {num_elementos} elementos na ordem correta.\")\n",
        "    return {\"elementos_apresentados\": elementos_sorteados,\n",
        "            \"resposta_usuario\": \";\".join(resposta_usuario), # Salva como string separada por ponto e vírgula para registro, para manter o formato de entrada\n",
        "            \"acertos\": acertos,\n",
        "            \"total_elementos\": num_elementos,\n",
        "            \"acertou\": (acertos == num_elementos)}"
      ],
      "metadata": {
        "id": "If5tHpZSFTDm"
      },
      "execution_count": 23,
      "outputs": []
    },
    {
      "cell_type": "code",
      "source": [
        "#########################################################################\n",
        "# Função de Exercício de Atenção Cancelamento (Sem Alteração de Tempo). #\n",
        "#########################################################################\n",
        "def exercicio_atencao_cancelamento(grade_size=5, alvo='b'):\n",
        "    letras = [random.choice('abcdefg') for _ in range(grade_size * grade_size)]\n",
        "    grade = [letras[i:i + grade_size] for i in range(0, len(letras), grade_size)]\n",
        "    num_alvos = sum(row.count(alvo) for row in grade)\n",
        "    print(f\"\\nMarque (mentalmente ou anote) todas as letras '{alvo}' na seguinte grade:\")\n",
        "    for row in grade:\n",
        "        print(\" \".join(row))\n",
        "    resposta_usuario_str = input(f\"Quantas letras '{alvo}' você encontrou? \")\n",
        "    try:\n",
        "        resposta_usuario = int(resposta_usuario_str)\n",
        "        acertou = (resposta_usuario == num_alvos)\n",
        "    except ValueError:\n",
        "        acertou = False\n",
        "    if acertou:\n",
        "      print(\"Parabéns! Você acertou.\")\n",
        "    else:\n",
        "        print(f\"Resposta incorreta. Havia {num_alvos} letras '{alvo}'.\")\n",
        "    return {\"grade_apresentada\": [ \"\".join(row) for row in grade],\n",
        "            \"alvo\": alvo,\n",
        "            \"resposta_usuario\": resposta_usuario_str,\n",
        "            \"contagem_correta\": num_alvos,\n",
        "            \"acertou\": acertou}"
      ],
      "metadata": {
        "id": "JLQZCtAEFfxd"
      },
      "execution_count": 24,
      "outputs": []
    },
    {
      "cell_type": "code",
      "source": [
        "####################################################\n",
        "# Função de Exercício de Linguagem Categorização   #\n",
        "####################################################\n",
        "def exercicio_linguagem_categorizacao():\n",
        "    palavras = [\"maçã\", \"banana\", \"carro\", \"ônibus\", \"uva\", \"moto\", \"pera\", \"bicicleta\"]\n",
        "    categorias = {\"frutas\": [\"maçã\", \"banana\", \"uva\", \"pera\"], \"transportes\": [\"carro\", \"ônibus\", \"moto\", \"bicicleta\"]}\n",
        "    palavras_sorteadas = random.sample(palavras, 6)\n",
        "    print(\"\\nCategorize as seguintes palavras em 'frutas' e 'transportes':\")\n",
        "    print(palavras_sorteadas)\n",
        "    resposta_usuario_frutas = [p.strip().lower() for p in input(\"Digite as frutas separadas por espaço: \").split() if p.strip()] # Processa entrada de frutas\n",
        "    resposta_usuario_transportes = [p.strip().lower() for p in input(\"Digite os transportes separados por espaço: \").split() if p.strip()] # Processa entrada de transportes\n",
        "\n",
        "    acertos_frutas = sum(1 for palavra in resposta_usuario_frutas if palavra in categorias[\"frutas\"])\n",
        "    acertos_transportes = sum(1 for palavra in resposta_usuario_transportes if palavra in categorias[\"transportes\"])\n",
        "\n",
        "    # Contagem total correta baseada nas palavras sorteadas e categorias\n",
        "    total_frutas_sorteadas = sum(1 for palavra in palavras_sorteadas if palavra in categorias[\"frutas\"])\n",
        "    total_transportes_sorteadas = sum(1 for palavra in palavras_sorteadas if palavra in categorias[\"transportes\"])\n",
        "\n",
        "    # Acerto total se o usuário categorizou todas as palavras sorteadas corretamente nas listas\n",
        "    acertou_totalmente = (acertos_frutas == total_frutas_sorteadas) and (acertos_transportes == total_transportes_sorteadas) and \\\n",
        "                         (len(resposta_usuario_frutas) == total_frutas_sorteadas) and (len(resposta_usuario_transportes) == total_transportes_sorteadas)\n",
        "\n",
        "    print(f\"\\nVocê categorizou corretamente {acertos_frutas} frutas e {acertos_transportes} transportes.\")\n",
        "    print(\"Frutas corretas que deveriam estar:\", [p for p in palavras_sorteadas if p in categorias[\"frutas\"]])\n",
        "    print(\"Transportes corretos que deveriam estar:\", [p for p in palavras_sorteadas if p in categorias[\"transportes\"]])\n",
        "\n",
        "    return {\"palavras_apresentadas\": palavras_sorteadas,\n",
        "            \"resposta_usuario_frutas\": \" \".join(resposta_usuario_frutas), # Salva como string para registro\n",
        "            \"resposta_usuario_transportes\": \" \".join(resposta_usuario_transportes), # Salva como string para registro\n",
        "            \"categorias_corretas\": categorias,\n",
        "            \"acertos_frutas\": acertos_frutas,\n",
        "            \"acertos_transportes\": acertos_transportes,\n",
        "            \"total_palavras_sorteadas\": len(palavras_sorteadas),\n",
        "            \"acertou\": acertou_totalmente} # Usa a verificação de acerto total"
      ],
      "metadata": {
        "id": "dzcGgy3FFm6s"
      },
      "execution_count": 25,
      "outputs": []
    },
    {
      "cell_type": "code",
      "source": [
        "######################################\n",
        "# Função para registrar o desempenho #\n",
        "######################################\n",
        "def registrar_desempenho(usuario, resultado, tipo_exercicio):\n",
        "    if usuario not in historico_desempenho:\n",
        "        historico_desempenho[usuario] = []\n",
        "    historico_desempenho[usuario].append({\n",
        "        \"timestamp\": datetime.now().isoformat(),\n",
        "        \"tipo_exercicio\": tipo_exercicio,\n",
        "        **resultado\n",
        "    })"
      ],
      "metadata": {
        "id": "6unLRMNKCir-"
      },
      "execution_count": 28,
      "outputs": []
    },
    {
      "cell_type": "code",
      "source": [
        "#######################################################################\n",
        "#     PARA INICIAR OS EXERCÍCIOS COGNITIVOS, EXECUTE ESSA CÉLULA.     #\n",
        "#          Função principal para iniciar a sessão com fases.          #\n",
        "#######################################################################\n",
        "def iniciar_sessao(usuario=\"usuario_teste\", num_interacoes=3, fase_atual=1, pontuacao_fase=0, num_exercicios_fase=0, limiar_acerto=70):\n",
        "    exercicios_memoria_fase1 = [exercicio_memoria_palavras, exercicio_memoria_numeros, exercicio_memoria_cores]\n",
        "    exercicios_memoria_fase2 = [exercicio_memoria_palavras, exercicio_memoria_numeros, exercicio_memoria_cores, exercicio_memoria_visual]\n",
        "    exercicios_memoria_fase3 = [exercicio_memoria_palavras, exercicio_memoria_numeros, exercicio_memoria_cores, exercicio_memoria_visual]\n",
        "\n",
        "    exercicios_atencao_fase1 = [exercicio_atencao_impar, exercicio_atencao_contagem_letras]\n",
        "    exercicios_atencao_fase2 = [exercicio_atencao_impar, exercicio_atencao_contagem_letras, exercicio_atencao_simbolos]\n",
        "    exercicios_atencao_fase3 = [exercicio_atencao_impar, exercicio_atencao_contagem_letras, exercicio_atencao_simbolos, exercicio_atencao_cancelamento]\n",
        "\n",
        "    exercicios_linguagem_fase1 = [exercicio_linguagem_completar_frase, exercicio_linguagem_sinonimo]\n",
        "    exercicios_linguagem_fase2 = [exercicio_linguagem_completar_frase, exercicio_linguagem_sinonimo, exercicio_linguagem_anagrama]\n",
        "    exercicios_linguagem_fase3 = [exercicio_linguagem_completar_frase, exercicio_linguagem_sinonimo, exercicio_linguagem_anagrama, exercicio_linguagem_categorizacao]\n",
        "\n",
        "    exercicios = {\n",
        "        1: {\"memoria\": exercicios_memoria_fase1, \"atencao\": exercicios_atencao_fase1, \"linguagem\": exercicios_linguagem_fase1},\n",
        "        2: {\"memoria\": exercicios_memoria_fase2, \"atencao\": exercicios_atencao_fase2, \"linguagem\": exercicios_linguagem_fase2},\n",
        "        3: {\"memoria\": exercicios_memoria_fase3, \"atencao\": exercicios_atencao_fase3, \"linguagem\": exercicios_linguagem_fase3}\n",
        "    }\n",
        "\n",
        "    if fase_atual > 3:\n",
        "        print(\"\\nVocê completou todas as fases! Parabéns pelo seu treino cognitivo!\")\n",
        "        return\n",
        "\n",
        "    print(f\"\\n--- Iniciando Fase {fase_atual} (Interação {num_exercicios_fase // 3 + 1}-{(num_interacoes * 3) // 3} total de interações) para o usuário: {usuario} ---\") # Ajuste na contagem de interações\n",
        "    pontuacao_interacao = 0\n",
        "    num_exercicios_interacao = 0\n",
        "\n",
        "    tipos_exercicios = [\"memoria\", \"atencao\", \"linguagem\"]\n",
        "    # Garante que todos os tipos de exercício da fase atual sejam tentados em cada interação\n",
        "    random.shuffle(tipos_exercicios) # Mistura a ordem dos tipos de exercício por interação\n",
        "\n",
        "    for tipo in tipos_exercicios:\n",
        "        # Escolhe um exercício aleatório disponível para a fase e tipo\n",
        "        funcao_exercicio = random.choice(exercicios[fase_atual][tipo])\n",
        "        print(f\"\\n--- Exercício de {tipo.capitalize()} (Fase {fase_atual}) ---\") # Capitaliza o tipo de exercício para melhor apresentação\n",
        "        resultado = funcao_exercicio()\n",
        "        registrar_desempenho(usuario, resultado, tipo)\n",
        "        if resultado.get(\"acertou\", False):\n",
        "            pontuacao_interacao += 1\n",
        "        num_exercicios_interacao += 1\n",
        "\n",
        "    nova_pontuacao_fase = pontuacao_fase + pontuacao_interacao\n",
        "    novo_num_exercicios_fase = num_exercicios_fase + num_exercicios_interacao\n",
        "    taxa_acerto_fase = (nova_pontuacao_fase / novo_num_exercicios_fase) * 100 if novo_num_exercicios_fase > 0 else 0\n",
        "\n",
        "    print(f\"\\n--- Fim da Interação ---\")\n",
        "    print(f\"Pontuação nesta interação: {pontuacao_interacao} de {num_exercicios_interacao}.\")\n",
        "    print(f\"Pontuação total na Fase {fase_atual}: {nova_pontuacao_fase} de {novo_num_exercicios_fase} ({taxa_acerto_fase:.2f}%).\")\n",
        "\n",
        "    # Lógica de progressão de fase\n",
        "    exercicios_por_fase = num_interacoes * 3\n",
        "    if novo_num_exercicios_fase < exercicios_por_fase:\n",
        "        # Continua na mesma fase se ainda não fez o número total de exercícios para a fase\n",
        "        print(f\"Continuando na Fase {fase_atual}. Faltam {exercicios_por_fase - novo_num_exercicios_fase} exercícios para completar a fase.\")\n",
        "        iniciar_sessao(usuario, num_interacoes, fase_atual, nova_pontuacao_fase, novo_num_exercicios_fase, limiar_acerto)\n",
        "    else:\n",
        "        # Concluiu o número de exercícios para a fase\n",
        "        print(f\"\\nVocê concluiu a Fase {fase_atual} com uma taxa de acerto de {taxa_acerto_fase:.2f}%.\")\n",
        "        if fase_atual < 3 and taxa_acerto_fase >= limiar_acerto: # Critério de avanço de fase (agora usa o limiar)\n",
        "            proxima_fase = fase_atual + 1\n",
        "            print(f\"Parabéns! Avançando para a Fase {proxima_fase} com exercícios um pouco mais desafiadores!\")\n",
        "            # Reinicia a pontuação e contagem para a próxima fase\n",
        "            iniciar_sessao(usuario, num_interacoes, proxima_fase, 0, 0, limiar_acerto)\n",
        "        elif fase_atual == 3 and taxa_acerto_fase >= limiar_acerto:\n",
        "             mensagem_nivel3 = f\"\\n🎉 **Parabéns! Você concluiu a Fase 3 com uma taxa de acerto impressionante de {taxa_acerto_fase:.2f}%! **🎉\"\n",
        "             display(HTML(f'<font size=\"+3\">{mensagem_nivel3}</font>'))\n",
        "             print(\"Seu desempenho cognitivo está excelente! Continue mantendo sua mente ativa com exercícios regulares.\")\n",
        "        else:\n",
        "            print(f\"Seu desempenho na Fase {fase_atual} foi de {taxa_acerto_fase:.2f}%. Você precisa de pelo menos {limiar_acerto}% de acerto para avançar de fase.\")\n",
        "            if fase_atual < 3:\n",
        "                print(f\"Por favor, repita a Fase {fase_atual} para melhorar sua pontuação.\")\n",
        "                # Repete a fase atual com os mesmos parâmetros iniciais\n",
        "                iniciar_sessao(usuario, num_interacoes, fase_atual, 0, 0, limiar_acerto)\n",
        "            else:\n",
        "                print(\"Você completou todos os exercícios disponíveis na Fase 3. Continue praticando para melhorar seu desempenho!\")\n",
        "\n",
        "    # --- Feedback Cognitivo (ao final de toda a sessão de num_interacoes * 3 exercícios) ---\n",
        "    # Este feedback agora aparece apenas no final da série de exercícios definidos por num_interacoes\n",
        "    if novo_num_exercicios_fase == (num_interacoes * 3) and fase_atual <= 3:\n",
        "         print(f\"\\n--- Feedback Cognitivo Final da Fase {fase_atual} ---\")\n",
        "         # Calcula a pontuação e exercícios da fase atual\n",
        "         pontuacao_fase_atual = sum(item.get(\"acertou\", False) for item in historico_desempenho.get(usuario, []) if item.get(\"tipo_exercicio\") in exercicios[fase_atual].keys()) # Ajuste para pegar apenas os exercícios da fase atual\n",
        "         num_exercicios_fase_atual = sum(1 for item in historico_desempenho.get(usuario, []) if item.get(\"tipo_exercicio\") in exercicios[fase_atual].keys()) # Ajuste similar\n",
        "         taxa_acerto_fase_atual = (pontuacao_fase_atual / num_exercicios_fase_atual) * 100 if num_exercicios_fase_atual > 0 else 0\n",
        "\n",
        "         print(f\"Você acertou {pontuacao_fase_atual} de {num_exercicios_fase_atual} exercícios ({taxa_acerto_fase_atual:.2f}% de acerto) na Fase {fase_atual}.\")\n",
        "         if taxa_acerto_fase_atual >= 70:\n",
        "             print(\"Seu desempenho cognitivo nesta fase foi bom. Continue assim!\")\n",
        "         elif taxa_acerto_fase_atual >= 50:\n",
        "             print(\"Seu desempenho cognitivo nesta fase foi mediano. Pratique para melhorar.\")\n",
        "         else:\n",
        "             print(\"Seu desempenho cognitivo nesta fase precisa de mais atenção. Tente focar e praticar mais.\")\n",
        "\n",
        "         if fase_atual == 3:\n",
        "             # Feedback cognitivo geral ao final da Fase 3\n",
        "             pontuacao_sessao_total = sum(item.get(\"acertou\", False) for usuario_hist in historico_desempenho.values() for item in usuario_hist)\n",
        "             num_exercicios_sessao_total = sum(len(usuario_hist) for usuario_hist in historico_desempenho.values())\n",
        "             taxa_acerto_sessao_total = (pontuacao_sessao_total / num_exercicios_sessao_total) * 100 if num_exercicios_sessao_total > 0 else 0\n",
        "\n",
        "             mensagem_cog_final = f\"\\n--- Feedback Cognitivo Final da Sessão ---\\n\"\n",
        "             display(HTML(f'<font size=\"+2\">{mensagem_cog_final}</font>'))\n",
        "             display(to_markdown(f\"**Ao longo da sessão, você acertou {pontuacao_sessao_total} de {num_exercicios_sessao_total} exercícios ({taxa_acerto_sessao_total:.2f}% de acerto).**\"))\n",
        "             #print(f\"Ao longo da sessão, você acertou {pontuacao_sessao_total} de {num_exercicios_sessao_total} exercícios ({taxa_acerto_sessao_total:.2f}% de acerto).\")\n",
        "\n",
        "             if taxa_acerto_sessao_total >= 70:\n",
        "                 print(\"**Seu desempenho cognitivo geral é bom!**\")\n",
        "             elif taxa_acerto_sessao_total >= 50:\n",
        "                 print(\"**Seu desempenho cognitivo geral está na média.**\")\n",
        "             else:\n",
        "                 print(\"**Seu desempenho cognitivo geral pode melhorar com mais prática.**\")\n",
        "             print(\"\\nHistórico de Desempenho Completo:\")\n",
        "             print(historico_desempenho.get(usuario, \"Nenhum desempenho registrado.\"))\n",
        "\n",
        "\n",
        "# Limpar o histórico para uma nova sessão com fases\n",
        "historico_desempenho = {}\n",
        "# Iniciar a sessão com progressão de fases\n",
        "# num_interacoes agora define o número total de interações em toda a sessão (num_interacoes * 3 exercícios no total)\n",
        "iniciar_sessao(usuario=usuario_atual, num_interacoes=2, limiar_acerto=70) # Exemplo com um total de 2 interações * 3 exercícios = 6 exercícios na sessão. Adicionado o limiar como argumento."
      ],
      "metadata": {
        "id": "ZH8mGWZUDCRA"
      },
      "execution_count": null,
      "outputs": []
    }
  ]
}